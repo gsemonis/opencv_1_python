{
 "cells": [
  {
   "cell_type": "markdown",
   "metadata": {
    "deletable": false,
    "editable": false,
    "nbgrader": {
     "grade": false,
     "locked": true,
     "solution": false
    }
   },
   "source": [
    "# <font style = \"color:rgb(50,120,229)\"> QR Code Detector </font>\n",
    "\n",
    "## <font style = \"color:rgb(50,120,229)\"> Overview </font>\n",
    "\n",
    "In the world where every other person carries an android phone or iPhone, QR Codes have gained a lot of popularity. The amount of information that these small and strange looking codes can carry is huge. Whether it's a URL, or a coupon code, or a person's PayTM account details, or a package's information, these codes can store it all. \n",
    "\n",
    "QR Code (Quick Response Code) were first designed in **1994** for automotive industry in Japan and since then they have left their mark in about every sector.\n",
    "\n",
    "## <font style = \"color:rgb(50,120,229)\"> Aim </font>\n",
    "\n",
    "In this project, we will implement a **QR Code Detector and Decoder** using **OpenCV** from scratch. We will then run our QR Code Detector on a sample image attached below.\n",
    "\n",
    "![OpenCV ID Card](./IDCard-Satya.png)\n",
    "\n",
    "## <font style = \"color:rgb(50,120,229)\">Additional Exercise </font>\n",
    "\n",
    "1. Create your own **OpenCV ID Card** (unofficial). You can use the following template as reference.\n",
    "\n",
    "![OpenCV ID Card Template](./IDCard-Template.png)\n",
    "\n",
    "The QR Code should contain the following details:\n",
    "\n",
    "```\n",
    "Name: Your name will come here, ID: a random numeric string\n",
    "```\n",
    "\n",
    "Use the QR Code Detector to detect the QR Code on your ID card. Also try out different image processing techniques you have learnt so far in the course, for example, image blurring to blur the ID Card photo and see how it affects the performance of your QR Code Detector. Share your findings with other students on Discussion Forum.\n",
    "\n",
    "2. Collect 5 photos of QR Codes that you have come across in your day-to-day life. Use our QR Code Detector to detect and decode the QR Code in the images. Don't forget to discuss your results and findings with other students in the discussion forum!\n",
    "\n",
    "## <font style = \"color:rgb(50,120,229)\"> Outline </font>\n",
    "\n",
    "Now that we have discussed about the aim of this project, let's see what are the main steps to be followed in this project.\n",
    "\n",
    "1. Read image\n",
    "2. Detect QR Code in the image\n",
    "3. Draw bounding box around the detected QR Code\n",
    "4. Print the decoded text\n",
    "5. Save and display the result image\n",
    "\n",
    "## <font style = \"color:rgb(50,120,229)\"> OpenCV Functions to Use </font>\n",
    "\n",
    "First let's see what major OpenCV Functions you are going to use (or can use) in this project.\n",
    "\n",
    "1. **Reading and writing image**: `cv2.imread()`, `cv2.imwrite()`\n",
    "3. **Draw a line on image**: `cv2.line()`\n",
    "4. **QR Detection**: `cv2.QRCodeDetector()`, `detectAndDecode()`\n",
    "\n",
    "![Expected Result](./QRCode-Expected-Output.png)"
   ]
  },
  {
   "cell_type": "markdown",
   "metadata": {
    "deletable": false,
    "editable": false,
    "nbgrader": {
     "grade": false,
     "locked": true,
     "solution": false
    }
   },
   "source": [
    "# <font style = \"color:rgb(50,120,229)\"> Step 1: Read Image </font>"
   ]
  },
  {
   "cell_type": "code",
   "execution_count": 1,
   "metadata": {
    "deletable": false,
    "editable": false,
    "nbgrader": {
     "grade": false,
     "locked": true,
     "solution": false
    }
   },
   "outputs": [],
   "source": [
    "%matplotlib inline\n",
    "\n",
    "# Import modules\n",
    "import cv2\n",
    "import matplotlib.pyplot as plt\n",
    "from dataPath import DATA_PATH"
   ]
  },
  {
   "cell_type": "code",
   "execution_count": 2,
   "metadata": {
    "deletable": false,
    "editable": false,
    "nbgrader": {
     "grade": false,
     "locked": true,
     "solution": false
    }
   },
   "outputs": [],
   "source": [
    "import matplotlib\n",
    "matplotlib.rcParams['figure.figsize'] = (10.0, 10.0)"
   ]
  },
  {
   "cell_type": "code",
   "execution_count": 8,
   "metadata": {
    "nbgrader": {
     "grade": false,
     "grade_id": "Read-Image",
     "locked": false,
     "points": "5",
     "solution": false
    }
   },
   "outputs": [
    {
     "name": "stdout",
     "output_type": "stream",
     "text": [
      "../resource/lib/publicdata/images/IDCard-Satya.png\n"
     ]
    },
    {
     "ename": "error",
     "evalue": "OpenCV(4.11.0) D:\\a\\opencv-python\\opencv-python\\opencv\\modules\\imgproc\\src\\color.cpp:199: error: (-215:Assertion failed) !_src.empty() in function 'cv::cvtColor'\n",
     "output_type": "error",
     "traceback": [
      "\u001b[31m---------------------------------------------------------------------------\u001b[39m",
      "\u001b[31merror\u001b[39m                                     Traceback (most recent call last)",
      "\u001b[36mCell\u001b[39m\u001b[36m \u001b[39m\u001b[32mIn[8]\u001b[39m\u001b[32m, line 6\u001b[39m\n\u001b[32m      4\u001b[39m \u001b[38;5;66;03m# Read image\u001b[39;00m\n\u001b[32m      5\u001b[39m img = cv2.imread(imgPath)\n\u001b[32m----> \u001b[39m\u001b[32m6\u001b[39m img_rgb = \u001b[43mcv2\u001b[49m\u001b[43m.\u001b[49m\u001b[43mcvtColor\u001b[49m\u001b[43m(\u001b[49m\u001b[43mimg\u001b[49m\u001b[43m,\u001b[49m\u001b[43m \u001b[49m\u001b[43mcv2\u001b[49m\u001b[43m.\u001b[49m\u001b[43mCOLOR_BGR2RGB\u001b[49m\u001b[43m)\u001b[49m\n\u001b[32m      7\u001b[39m plt.imshow(img_rgb)\n\u001b[32m      8\u001b[39m \u001b[38;5;66;03m###\u001b[39;00m\n\u001b[32m      9\u001b[39m \u001b[38;5;66;03m### YOUR CODE HERE\u001b[39;00m\n\u001b[32m     10\u001b[39m \u001b[38;5;66;03m###\u001b[39;00m\n\u001b[32m     11\u001b[39m \u001b[38;5;66;03m#img_rgb = cv2.cvtColor(img, cv2.COLOR_BGR2RGB)\u001b[39;00m\n\u001b[32m     12\u001b[39m \n\u001b[32m     13\u001b[39m \u001b[38;5;66;03m# Display using matplotlib\u001b[39;00m\n",
      "\u001b[31merror\u001b[39m: OpenCV(4.11.0) D:\\a\\opencv-python\\opencv-python\\opencv\\modules\\imgproc\\src\\color.cpp:199: error: (-215:Assertion failed) !_src.empty() in function 'cv::cvtColor'\n"
     ]
    }
   ],
   "source": [
    "# Image Path\n",
    "imgPath = DATA_PATH+\"images/IDCard-Satya.png\"\n",
    "print(imgPath)\n",
    "# Read image\n",
    "img = cv2.imread(imgPath)\n",
    "img_rgb = cv2.cvtColor(img, cv2.COLOR_BGR2RGB)\n",
    "plt.imshow(img)\n",
    "###\n",
    "### YOUR CODE HERE\n",
    "###\n",
    "#img_rgb = cv2.cvtColor(img, cv2.COLOR_BGR2RGB)\n",
    "\n",
    "# Display using matplotlib\n"
   ]
  },
  {
   "cell_type": "code",
   "execution_count": null,
   "metadata": {
    "deletable": false,
    "editable": false,
    "nbgrader": {
     "grade": true,
     "grade_id": "read image",
     "locked": true,
     "points": "6",
     "solution": false
    }
   },
   "outputs": [],
   "source": [
    "###\n",
    "### AUTOGRADER TEST - DO NOT REMOVE\n",
    "###\n"
   ]
  },
  {
   "cell_type": "markdown",
   "metadata": {
    "deletable": false,
    "editable": false,
    "nbgrader": {
     "grade": false,
     "locked": true,
     "solution": false
    }
   },
   "source": [
    "# <font style = \"color:rgb(50,120,229)\"> Step 2: Detect QR Code in the Image </font>"
   ]
  },
  {
   "cell_type": "code",
   "execution_count": null,
   "metadata": {},
   "outputs": [],
   "source": [
    "# Create a QRCodeDetector Object\n",
    "# Variable name should be qrDecoder\n",
    "\n",
    "###\n",
    "### YOUR CODE HERE\n",
    "###\n",
    "\n",
    "# Detect QR Code in the Image\n",
    "# Output should be stored in\n",
    "# opencvData, bbox, rectifiedImage\n",
    "# in the same order\n",
    "\n",
    "###\n",
    "### YOUR CODE HERE\n",
    "###\n",
    "\n",
    "# Check if a QR Code has been detected\n",
    "if opencvData != None:\n",
    "    print(\"QR Code Detected\")\n",
    "else:\n",
    "    print(\"QR Code NOT Detected\")"
   ]
  },
  {
   "cell_type": "code",
   "execution_count": null,
   "metadata": {
    "deletable": false,
    "editable": false,
    "nbgrader": {
     "grade": true,
     "grade_id": "create a QRCodeDetector object",
     "locked": true,
     "points": "6",
     "solution": false
    }
   },
   "outputs": [],
   "source": [
    "###\n",
    "### AUTOGRADER TEST - DO NOT REMOVE\n",
    "###\n"
   ]
  },
  {
   "cell_type": "code",
   "execution_count": null,
   "metadata": {
    "deletable": false,
    "editable": false,
    "nbgrader": {
     "grade": true,
     "grade_id": "detect qr code in the image",
     "locked": true,
     "points": "6",
     "solution": false
    }
   },
   "outputs": [],
   "source": [
    "###\n",
    "### AUTOGRADER TEST - DO NOT REMOVE\n",
    "###\n"
   ]
  },
  {
   "cell_type": "markdown",
   "metadata": {
    "deletable": false,
    "editable": false,
    "nbgrader": {
     "grade": false,
     "locked": true,
     "solution": false
    }
   },
   "source": [
    "# <font style = \"color:rgb(50,120,229)\"> Step 3: Draw bounding box around the detected QR Code </font>"
   ]
  },
  {
   "cell_type": "code",
   "execution_count": null,
   "metadata": {},
   "outputs": [],
   "source": [
    "n = len(bbox)\n",
    "\n",
    "# Draw the bounding box\n",
    "###\n",
    "### YOUR CODE HERE\n",
    "###\n"
   ]
  },
  {
   "cell_type": "markdown",
   "metadata": {
    "deletable": false,
    "editable": false,
    "nbgrader": {
     "grade": false,
     "locked": true,
     "solution": false
    }
   },
   "source": [
    "# <font style = \"color:rgb(50,120,229)\"> Step 4: Print the Decoded Text </font>"
   ]
  },
  {
   "cell_type": "code",
   "execution_count": null,
   "metadata": {},
   "outputs": [],
   "source": [
    "# Since we have already detected and decoded the QR Code\n",
    "# using qrDecoder.detectAndDecode, we will directly\n",
    "# use the decoded text we obtained at that step (opencvdata)\n",
    "\n",
    "print(\"QR Code Detected!\")\n",
    "###\n",
    "### YOUR CODE HERE\n",
    "###\n"
   ]
  },
  {
   "cell_type": "code",
   "execution_count": null,
   "metadata": {
    "deletable": false,
    "editable": false,
    "nbgrader": {
     "grade": true,
     "grade_id": "print decoded text",
     "locked": true,
     "points": "6",
     "solution": false
    }
   },
   "outputs": [],
   "source": [
    "###\n",
    "### AUTOGRADER TEST - DO NOT REMOVE\n",
    "###\n"
   ]
  },
  {
   "cell_type": "markdown",
   "metadata": {
    "deletable": false,
    "editable": false,
    "nbgrader": {
     "grade": false,
     "locked": true,
     "solution": false
    }
   },
   "source": [
    "## <font style = \"color:rgb(50,120,229)\"> Step 5: Save and display the result image </font>"
   ]
  },
  {
   "cell_type": "code",
   "execution_count": null,
   "metadata": {},
   "outputs": [],
   "source": [
    "# Write the result image\n",
    "resultImagePath = \"QRCode-Output.png\"\n",
    "\n",
    "###\n",
    "### YOUR CODE HERE\n",
    "###\n"
   ]
  },
  {
   "cell_type": "code",
   "execution_count": null,
   "metadata": {
    "deletable": false,
    "editable": false,
    "nbgrader": {
     "grade": true,
     "grade_id": "write the image",
     "locked": true,
     "points": "6",
     "solution": false
    }
   },
   "outputs": [],
   "source": [
    "###\n",
    "### AUTOGRADER TEST - DO NOT REMOVE\n",
    "###\n"
   ]
  },
  {
   "cell_type": "code",
   "execution_count": null,
   "metadata": {
    "nbgrader": {
     "grade": false,
     "locked": false,
     "solution": false
    }
   },
   "outputs": [],
   "source": [
    "# Display the result image\n",
    "plt.imshow(img)\n",
    "\n",
    "# Notice anything wrong?"
   ]
  },
  {
   "cell_type": "code",
   "execution_count": null,
   "metadata": {
    "nbgrader": {
     "grade": false,
     "locked": false,
     "solution": false
    }
   },
   "outputs": [],
   "source": [
    "# OpenCV uses BGR whereas Matplotlib uses RGB format\n",
    "# So convert the BGR image to RGB image\n",
    "# And display the correct image\n",
    "\n",
    "rgb_image=cv2.cvtColor(img,cv2.COLOR_BGR2RGB)\n",
    "plt.imshow(rgb_image)"
   ]
  }
 ],
 "metadata": {
  "kernelspec": {
   "display_name": "Python (opencv_1_python)",
   "language": "python",
   "name": "myenvname"
  },
  "language_info": {
   "codemirror_mode": {
    "name": "ipython",
    "version": 3
   },
   "file_extension": ".py",
   "mimetype": "text/x-python",
   "name": "python",
   "nbconvert_exporter": "python",
   "pygments_lexer": "ipython3",
   "version": "3.12.9"
  }
 },
 "nbformat": 4,
 "nbformat_minor": 4
}
